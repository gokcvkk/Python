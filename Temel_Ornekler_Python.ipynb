{
 "cells": [
  {
   "cell_type": "code",
   "execution_count": null,
   "id": "05c98ab8",
   "metadata": {},
   "outputs": [],
   "source": [
    "#****TEMEL PROGRAMLAMA KAVRAMLARI****\n",
    "sayi1=float(input(\"Birinci sayıyı giriniz:\"))\n",
    "sayi2=float(input(\"İkinci sayıyı giriniz:\"))\n",
    "toplam=sayi1+sayi2\n",
    "print(\"Toplam:\",toplam)"
   ]
  },
  {
   "cell_type": "code",
   "execution_count": null,
   "id": "cae0aa2c",
   "metadata": {},
   "outputs": [],
   "source": [
    "sayi=int(input(\"sayı giriniz:\"))\n",
    "faktoriyel=1\n",
    "for i in range(1,sayi+1):\n",
    "    faktoriyel*=i\n",
    "print(faktoriyel)"
   ]
  },
  {
   "cell_type": "code",
   "execution_count": 5,
   "id": "2ea0a7ce",
   "metadata": {},
   "outputs": [
    {
     "name": "stdout",
     "output_type": "stream",
     "text": [
      "kaç adet sayı gireceksiniz:5\n",
      "1. sayıyı giriniz:4\n",
      "2. sayıyı giriniz:5\n",
      "3. sayıyı giriniz:6\n",
      "4. sayıyı giriniz:7\n",
      "5. sayıyı giriniz:8\n",
      "30.0\n",
      "6.0\n"
     ]
    }
   ],
   "source": [
    "sayi_adedi=int(input(\"kaç adet sayı gireceksiniz:\"))\n",
    "toplam=0\n",
    "for i in range(sayi_adedi):\n",
    "    sayi=float(input(f\"{i+1}. sayıyı giriniz:\"))\n",
    "    toplam+=sayi\n",
    "ortalama=toplam/sayi_adedi\n",
    "print(toplam)\n",
    "print(ortalama)"
   ]
  },
  {
   "cell_type": "code",
   "execution_count": 6,
   "id": "e2e5e6b8",
   "metadata": {},
   "outputs": [
    {
     "name": "stdout",
     "output_type": "stream",
     "text": [
      "Çarpım tablosu yapılacak sayı:5\n",
      "5 x 1 = 5\n",
      "5 x 2 = 10\n",
      "5 x 3 = 15\n",
      "5 x 4 = 20\n",
      "5 x 5 = 25\n",
      "5 x 6 = 30\n",
      "5 x 7 = 35\n",
      "5 x 8 = 40\n",
      "5 x 9 = 45\n",
      "5 x 10 = 50\n"
     ]
    }
   ],
   "source": [
    "sayi=int(input(\"Çarpım tablosu yapılacak sayı:\"))\n",
    "for i in range(1,11):\n",
    "    carpim=sayi*i\n",
    "    print(f\"{sayi} x {i} = {carpim}\")"
   ]
  },
  {
   "cell_type": "code",
   "execution_count": 9,
   "id": "b8bfc1ee",
   "metadata": {},
   "outputs": [
    {
     "name": "stdout",
     "output_type": "stream",
     "text": [
      "kaç adet sayı ile Fibonacci oluşacak:10\n",
      "[0, 1, 1, 2, 3, 5, 8, 13, 21, 34]\n"
     ]
    }
   ],
   "source": [
    "n=int(input(\"kaç adet sayı ile Fibonacci oluşacak:\"))\n",
    "a,b=0,1\n",
    "fibonacci=[a,b]\n",
    "for _ in range(2,n):\n",
    "    a,b=b,a+b\n",
    "    fibonacci.append(b)\n",
    "print(fibonacci)"
   ]
  },
  {
   "cell_type": "code",
   "execution_count": 13,
   "id": "5779045f",
   "metadata": {},
   "outputs": [
    {
     "name": "stdout",
     "output_type": "stream",
     "text": [
      "Alt sınır:2\n",
      "Üst sınır:11\n",
      "[2, 3, 5, 7, 11]\n"
     ]
    }
   ],
   "source": [
    "alt_sinir=int(input(\"Alt sınır:\"))\n",
    "üst_sinir=int(input(\"Üst sınır:\"))\n",
    "\n",
    "asal_sayilar=[]\n",
    "for sayi in range(alt_sinir,üst_sinir+1):\n",
    "    if sayi>1:\n",
    "        for i in range(2,sayi):\n",
    "            if(sayi%i)==0:\n",
    "                break\n",
    "        else:\n",
    "            asal_sayilar.append(sayi)\n",
    "print(asal_sayilar)\n",
    "                \n"
   ]
  },
  {
   "cell_type": "code",
   "execution_count": 14,
   "id": "6d5c9631",
   "metadata": {},
   "outputs": [],
   "source": [
    "#*******FONKSİYONLAR********"
   ]
  },
  {
   "cell_type": "code",
   "execution_count": null,
   "id": "49f86cd6",
   "metadata": {},
   "outputs": [],
   "source": [
    "def find_ebob(sayi1, sayi2):\n",
    "    while sayi2:\n",
    "        sayi1, sayi2 = sayi2, sayi1 % sayi2\n",
    "    return sayi1\n",
    "\n",
    "sayi1 = int(input(\"Birinci sayıyı giriniz: \"))\n",
    "sayi2 = int(input(\"İkinci sayıyı giriniz: \"))\n",
    "print(\"EBOB:\", find_ebob(sayi1, sayi2))\n",
    "\n"
   ]
  },
  {
   "cell_type": "code",
   "execution_count": null,
   "id": "0752d82e",
   "metadata": {},
   "outputs": [],
   "source": [
    "def faktoriyel(n):\n",
    "    if n == 0:\n",
    "        return 1\n",
    "    else:\n",
    "        return n * faktoriyel(n - 1)\n",
    "\n",
    "sayi = int(input(\"Faktöriyelini hesaplamak istediğiniz sayıyı girin: \"))\n",
    "print(f\"{sayi} sayısının faktöriyeli:\", faktoriyel(sayi))\n"
   ]
  },
  {
   "cell_type": "code",
   "execution_count": null,
   "id": "36a6e1d0",
   "metadata": {},
   "outputs": [],
   "source": [
    "def us_alma(taban, us):\n",
    "    return taban ** us\n",
    "\n",
    "taban = int(input(\"Tabanı girin: \"))\n",
    "us = int(input(\"Üssü girin: \"))\n",
    "print(f\"{taban} üzeri {us}:\", us_alma(taban, us))\n"
   ]
  },
  {
   "cell_type": "code",
   "execution_count": null,
   "id": "df6471e4",
   "metadata": {},
   "outputs": [],
   "source": [
    "def mukemmel_sayi(sayi):\n",
    "    toplam = 0\n",
    "    for i in range(1, sayi):\n",
    "        if sayi % i == 0:\n",
    "            toplam += i\n",
    "    return toplam == sayi\n",
    "\n",
    "sayi = int(input(\"Bir sayı girin: \"))\n",
    "if mukemmel_sayi(sayi):\n",
    "    print(sayi, \"mükemmel bir sayıdır.\")\n",
    "else:\n",
    "    print(sayi, \"mükemmel bir sayı değildir.\")\n"
   ]
  },
  {
   "cell_type": "code",
   "execution_count": null,
   "id": "c1eae338",
   "metadata": {},
   "outputs": [],
   "source": [
    "def cift_sayilari_listele(alt_sinir, ust_sinir):\n",
    "    ciftler = []\n",
    "    for sayi in range(alt_sinir, ust_sinir + 1):\n",
    "        if sayi % 2 == 0:\n",
    "            ciftler.append(sayi)\n",
    "    return ciftler\n",
    "\n",
    "alt_sinir = int(input(\"Alt sınırı girin: \"))\n",
    "ust_sinir = int(input(\"Üst sınırı girin: \"))\n",
    "print(f\"{alt_sinir} ile {ust_sinir} arasındaki çift sayılar:\", cift_sayilari_listele(alt_sinir, ust_sinir))\n"
   ]
  },
  {
   "cell_type": "code",
   "execution_count": null,
   "id": "26ae8638",
   "metadata": {},
   "outputs": [],
   "source": [
    "def tek_sayilarin_toplami(alt_sinir, ust_sinir):\n",
    "    toplam = 0\n",
    "    for sayi in range(alt_sinir, ust_sinir + 1):\n",
    "        if sayi % 2 != 0:\n",
    "            toplam += sayi\n",
    "    return toplam\n",
    "\n",
    "alt_sinir = int(input(\"Alt sınırı girin: \"))\n",
    "ust_sinir = int(input(\"Üst sınırı girin: \"))\n",
    "print(f\"{alt_sinir} ile {ust_sinir} arasındaki tek sayıların toplamı:\", tek_sayilarin_toplami(alt_sinir, ust_sinir))\n"
   ]
  },
  {
   "cell_type": "code",
   "execution_count": null,
   "id": "eb1acf28",
   "metadata": {},
   "outputs": [],
   "source": [
    "#VERİ YAPILARI"
   ]
  },
  {
   "cell_type": "code",
   "execution_count": null,
   "id": "e8932a29",
   "metadata": {},
   "outputs": [],
   "source": [
    "my_list=[1,2,3,4,5]\n",
    "reversed_list=my_list[::-1]\n",
    "print(\"Ters çevrilmiş liste:\",reversed_list)\n",
    "\n",
    "sum_of_list=sum(my_list)\n",
    "print(\"Liste elemanlarının toplamı:\",sum_of_list)\n",
    "\n",
    "sorted_list=sorted(my_list)\n",
    "print(\"Sıralanmış liste:\",sorted_list)\n"
   ]
  },
  {
   "cell_type": "code",
   "execution_count": 32,
   "id": "bcde08c1",
   "metadata": {},
   "outputs": [
    {
     "ename": "TypeError",
     "evalue": "'tuple' object is not callable",
     "output_type": "error",
     "traceback": [
      "\u001b[1;31m---------------------------------------------------------------------------\u001b[0m",
      "\u001b[1;31mTypeError\u001b[0m                                 Traceback (most recent call last)",
      "Cell \u001b[1;32mIn[32], line 4\u001b[0m\n\u001b[0;32m      2\u001b[0m tuple2\u001b[38;5;241m=\u001b[39m(\u001b[38;5;124m'\u001b[39m\u001b[38;5;124ma\u001b[39m\u001b[38;5;124m'\u001b[39m,\u001b[38;5;124m'\u001b[39m\u001b[38;5;124mb\u001b[39m\u001b[38;5;124m'\u001b[39m,\u001b[38;5;124m'\u001b[39m\u001b[38;5;124mc\u001b[39m\u001b[38;5;124m'\u001b[39m)\n\u001b[0;32m      3\u001b[0m merged_tuple\u001b[38;5;241m=\u001b[39mtuple1\u001b[38;5;241m+\u001b[39mtuple2\n\u001b[1;32m----> 4\u001b[0m \u001b[38;5;28mprint\u001b[39m(\u001b[38;5;124m\"\u001b[39m\u001b[38;5;124mBirleştirilmiş demet:\u001b[39m\u001b[38;5;124m\"\u001b[39m,merged_tuple)\n\u001b[0;32m      6\u001b[0m repeated_tuple\u001b[38;5;241m=\u001b[39mtuple1\u001b[38;5;241m*\u001b[39m\u001b[38;5;241m3\u001b[39m\n\u001b[0;32m      7\u001b[0m \u001b[38;5;28mprint\u001b[39m(\u001b[38;5;124m\"\u001b[39m\u001b[38;5;124mDemetin tekrarlanmış hali:\u001b[39m\u001b[38;5;124m\"\u001b[39m,repeated_tuple)\n",
      "\u001b[1;31mTypeError\u001b[0m: 'tuple' object is not callable"
     ]
    }
   ],
   "source": [
    "tuple1=(1,2,3)\n",
    "tuple2=('a','b','c')\n",
    "merged_tuple=tuple1+tuple2\n",
    "print(\"Birleştirilmiş demet:\",merged_tuple)\n",
    "\n",
    "repeated_tuple=tuple1*3\n",
    "print(\"Demetin tekrarlanmış hali:\",repeated_tuple)"
   ]
  },
  {
   "cell_type": "code",
   "execution_count": null,
   "id": "f5cf4854",
   "metadata": {},
   "outputs": [],
   "source": [
    "dict1={'a':1,'b':2}\n",
    "dict2={'c':3,'d':4}\n",
    "merged_dict={**dict1,**dict2}\n",
    "print(\"Birleştirilmiş sözlük:\",merged_dict)\n",
    "\n",
    "values=list(dict1.values())\n",
    "print(\"Sözlük değerleri:\",values)\n",
    "\n",
    "sorted_dict=dict(sorted(dict1.items()))\n",
    "print(\"Sıralanmış sözlük:\",sorted_dict)"
   ]
  },
  {
   "cell_type": "code",
   "execution_count": 39,
   "id": "5d663cc1",
   "metadata": {},
   "outputs": [
    {
     "ename": "TypeError",
     "evalue": "'tuple' object is not callable",
     "output_type": "error",
     "traceback": [
      "\u001b[1;31m---------------------------------------------------------------------------\u001b[0m",
      "\u001b[1;31mTypeError\u001b[0m                                 Traceback (most recent call last)",
      "Cell \u001b[1;32mIn[39], line 4\u001b[0m\n\u001b[0;32m      2\u001b[0m set2\u001b[38;5;241m=\u001b[39m{\u001b[38;5;241m1\u001b[39m,\u001b[38;5;241m2\u001b[39m,\u001b[38;5;241m3\u001b[39m}\n\u001b[0;32m      3\u001b[0m union_set\u001b[38;5;241m=\u001b[39mset1\u001b[38;5;241m.\u001b[39munion(set2)\n\u001b[1;32m----> 4\u001b[0m \u001b[38;5;28mprint\u001b[39m(\u001b[38;5;124m\"\u001b[39m\u001b[38;5;124mkümelerin birleşimi:\u001b[39m\u001b[38;5;124m\"\u001b[39m,union_set)\n\u001b[0;32m      6\u001b[0m kesisim_set\u001b[38;5;241m=\u001b[39mset1\u001b[38;5;241m.\u001b[39mintersection(set2)\n\u001b[0;32m      7\u001b[0m \u001b[38;5;28mprint\u001b[39m(\u001b[38;5;124m\"\u001b[39m\u001b[38;5;124mkümelerin kesişimi:\u001b[39m\u001b[38;5;124m\"\u001b[39m,kesisim_set)\n",
      "\u001b[1;31mTypeError\u001b[0m: 'tuple' object is not callable"
     ]
    }
   ],
   "source": [
    "set1={1,2,3}\n",
    "set2={1,2,3}\n",
    "union_set=set1.union(set2)\n",
    "print(\"kümelerin birleşimi:\",union_set)\n",
    "\n",
    "kesisim_set=set1.intersection(set2)\n",
    "print(\"kümelerin kesişimi:\",kesisim_set)\n",
    "\n",
    "sum_of_set=sum(set1)\n",
    "print(\"Küme elemanlarının toplamı:\",sum_of_set)"
   ]
  },
  {
   "cell_type": "code",
   "execution_count": 41,
   "id": "9461af4b",
   "metadata": {},
   "outputs": [
    {
     "ename": "TypeError",
     "evalue": "'tuple' object is not callable",
     "output_type": "error",
     "traceback": [
      "\u001b[1;31m---------------------------------------------------------------------------\u001b[0m",
      "\u001b[1;31mTypeError\u001b[0m                                 Traceback (most recent call last)",
      "Cell \u001b[1;32mIn[41], line 6\u001b[0m\n\u001b[0;32m      4\u001b[0m stack\u001b[38;5;241m.\u001b[39mappend(\u001b[38;5;241m3\u001b[39m)\n\u001b[0;32m      5\u001b[0m popped_item\u001b[38;5;241m=\u001b[39mstack\u001b[38;5;241m.\u001b[39mpop()\n\u001b[1;32m----> 6\u001b[0m \u001b[38;5;28mprint\u001b[39m(\u001b[38;5;124m\"\u001b[39m\u001b[38;5;124mÇıkarılan öğe:\u001b[39m\u001b[38;5;124m\"\u001b[39m,popped_item)\n",
      "\u001b[1;31mTypeError\u001b[0m: 'tuple' object is not callable"
     ]
    }
   ],
   "source": [
    "stack=[]\n",
    "stack.append(1)\n",
    "stack.append(2)\n",
    "stack.append(3)\n",
    "popped_item=stack.pop()\n",
    "print(\"Çıkarılan öğe:\",popped_item)"
   ]
  },
  {
   "cell_type": "code",
   "execution_count": 43,
   "id": "03e9e407",
   "metadata": {},
   "outputs": [
    {
     "ename": "TypeError",
     "evalue": "'tuple' object is not callable",
     "output_type": "error",
     "traceback": [
      "\u001b[1;31m---------------------------------------------------------------------------\u001b[0m",
      "\u001b[1;31mTypeError\u001b[0m                                 Traceback (most recent call last)",
      "Cell \u001b[1;32mIn[43], line 5\u001b[0m\n\u001b[0;32m      2\u001b[0m     \u001b[38;5;28;01mreturn\u001b[39;00m \u001b[38;5;28msum\u001b[39m(liste)\n\u001b[0;32m      4\u001b[0m my_list\u001b[38;5;241m=\u001b[39m[\u001b[38;5;241m1\u001b[39m,\u001b[38;5;241m2\u001b[39m,\u001b[38;5;241m3\u001b[39m,\u001b[38;5;241m4\u001b[39m,\u001b[38;5;241m5\u001b[39m]\n\u001b[1;32m----> 5\u001b[0m \u001b[38;5;28mprint\u001b[39m(toplama(my_list))\n",
      "\u001b[1;31mTypeError\u001b[0m: 'tuple' object is not callable"
     ]
    }
   ],
   "source": [
    "def toplama(liste):\n",
    "    return sum(liste)\n",
    "\n",
    "my_list=[1,2,3,4,5]\n",
    "print(toplama(my_list))"
   ]
  },
  {
   "cell_type": "code",
   "execution_count": 44,
   "id": "6ddd1dea",
   "metadata": {},
   "outputs": [
    {
     "ename": "TypeError",
     "evalue": "'tuple' object is not callable",
     "output_type": "error",
     "traceback": [
      "\u001b[1;31m---------------------------------------------------------------------------\u001b[0m",
      "\u001b[1;31mTypeError\u001b[0m                                 Traceback (most recent call last)",
      "Cell \u001b[1;32mIn[44], line 5\u001b[0m\n\u001b[0;32m      2\u001b[0m     \u001b[38;5;28;01mreturn\u001b[39;00m[x \u001b[38;5;28;01mfor\u001b[39;00m x \u001b[38;5;129;01min\u001b[39;00m liste \u001b[38;5;28;01mif\u001b[39;00m x \u001b[38;5;241m%\u001b[39m \u001b[38;5;241m2\u001b[39m\u001b[38;5;241m==\u001b[39m\u001b[38;5;241m0\u001b[39m]\n\u001b[0;32m      4\u001b[0m my_list\u001b[38;5;241m=\u001b[39m[\u001b[38;5;241m1\u001b[39m,\u001b[38;5;241m2\u001b[39m,\u001b[38;5;241m3\u001b[39m,\u001b[38;5;241m4\u001b[39m,\u001b[38;5;241m5\u001b[39m,\u001b[38;5;241m6\u001b[39m,\u001b[38;5;241m7\u001b[39m,\u001b[38;5;241m8\u001b[39m,\u001b[38;5;241m9\u001b[39m,\u001b[38;5;241m10\u001b[39m]\n\u001b[1;32m----> 5\u001b[0m \u001b[38;5;28mprint\u001b[39m(ciftleri_listele(my_list))\n",
      "\u001b[1;31mTypeError\u001b[0m: 'tuple' object is not callable"
     ]
    }
   ],
   "source": [
    "def ciftleri_listele(liste):\n",
    "    return[x for x in liste if x % 2==0]\n",
    "\n",
    "my_list=[1,2,3,4,5,6,7,8,9,10]\n",
    "print(ciftleri_listele(my_list))\n"
   ]
  },
  {
   "cell_type": "code",
   "execution_count": 47,
   "id": "ca604d3d",
   "metadata": {},
   "outputs": [
    {
     "ename": "TypeError",
     "evalue": "list indices must be integers or slices, not tuple",
     "output_type": "error",
     "traceback": [
      "\u001b[1;31m---------------------------------------------------------------------------\u001b[0m",
      "\u001b[1;31mTypeError\u001b[0m                                 Traceback (most recent call last)",
      "Cell \u001b[1;32mIn[47], line 3\u001b[0m\n\u001b[0;32m      1\u001b[0m \u001b[38;5;28;01mdef\u001b[39;00m \u001b[38;5;21mters_cevir\u001b[39m(liste):\n\u001b[0;32m      2\u001b[0m     \u001b[38;5;28;01mreturn\u001b[39;00m liste[::\u001b[38;5;241m-\u001b[39m\u001b[38;5;241m1\u001b[39m]\n\u001b[1;32m----> 3\u001b[0m my_list[\u001b[38;5;241m1\u001b[39m,\u001b[38;5;241m2\u001b[39m,\u001b[38;5;241m3\u001b[39m,\u001b[38;5;241m4\u001b[39m,\u001b[38;5;241m5\u001b[39m,\u001b[38;5;241m6\u001b[39m]\n\u001b[0;32m      4\u001b[0m \u001b[38;5;28mprint\u001b[39m(ters_cevir(my_list))\n",
      "\u001b[1;31mTypeError\u001b[0m: list indices must be integers or slices, not tuple"
     ]
    }
   ],
   "source": [
    "def ters_cevir(liste):\n",
    "    return liste[::-1]\n",
    "my_list[1,2,3,4,5,6]\n",
    "print(ters_cevir(my_list))"
   ]
  },
  {
   "cell_type": "code",
   "execution_count": 49,
   "id": "97c03889",
   "metadata": {},
   "outputs": [
    {
     "ename": "TypeError",
     "evalue": "'tuple' object is not callable",
     "output_type": "error",
     "traceback": [
      "\u001b[1;31m---------------------------------------------------------------------------\u001b[0m",
      "\u001b[1;31mTypeError\u001b[0m                                 Traceback (most recent call last)",
      "Cell \u001b[1;32mIn[49], line 7\u001b[0m\n\u001b[0;32m      5\u001b[0m list2\u001b[38;5;241m=\u001b[39m[\u001b[38;5;241m2\u001b[39m,\u001b[38;5;241m8\u001b[39m,\u001b[38;5;241m6\u001b[39m,\u001b[38;5;241m4\u001b[39m]\n\u001b[0;32m      6\u001b[0m result\u001b[38;5;241m=\u001b[39mbirlestir_ve_sirala(list1,list2)\n\u001b[1;32m----> 7\u001b[0m \u001b[38;5;28mprint\u001b[39m(result)\n",
      "\u001b[1;31mTypeError\u001b[0m: 'tuple' object is not callable"
     ]
    }
   ],
   "source": [
    "def birlestir_ve_sirala(liste1,liste2):\n",
    "    merged_list=liste1+liste2\n",
    "    return sorted(merged_list)\n",
    "list1=[3,4,6,7]\n",
    "list2=[2,8,6,4]\n",
    "result=birlestir_ve_sirala(list1,list2)\n",
    "print(result)"
   ]
  },
  {
   "cell_type": "code",
   "execution_count": null,
   "id": "1804f428",
   "metadata": {},
   "outputs": [],
   "source": [
    "def kelime_frekansı(metin):\n",
    "    kelimeler=metin.split()\n",
    "    frekanslar={}\n",
    "    for kelime in kelimeler:\n",
    "        kelime=kelime.lower()\n",
    "        if kelime in frekanslar:\n",
    "            frekanslar[kelime]+=1\n",
    "        else:\n",
    "            frekanslar[kelime]=1\n",
    "    return frekanslar\n",
    "def encokgecen_kelime(frekanslar,n=5)\n",
    "     sirali_frekanslar=sorted(frekanslar.items(),key=lambda x: x[1], reverse=True)\n",
    "def main():\n",
    "    metin = input(\"Bir metin girin: \")\n",
    "    frekanslar = kelime_frekansi(metin)\n",
    "    print(\"\\nKelimelerin frekansları:\")\n",
    "    for kelime, frekans in frekanslar.items():\n",
    "        print(f\"{kelime}: {frekans}\")\n",
    "    \n",
    "    en_cok_gecen = en_cok_gecen_kelimeler(frekanslar)\n",
    "    print(\"\\nEn çok geçen kelimeler:\")\n",
    "    for kelime, frekans in en_cok_gecen:\n",
    "        print(f\"{kelime}: {frekans}\")\n",
    "\n",
    "if __name__ == \"__main__\":\n",
    "    main()"
   ]
  },
  {
   "cell_type": "code",
   "execution_count": 51,
   "id": "382860e5",
   "metadata": {},
   "outputs": [],
   "source": [
    "#SINIFLAR"
   ]
  },
  {
   "cell_type": "code",
   "execution_count": 56,
   "id": "7c016286",
   "metadata": {},
   "outputs": [
    {
     "ename": "TypeError",
     "evalue": "'tuple' object is not callable",
     "output_type": "error",
     "traceback": [
      "\u001b[1;31m---------------------------------------------------------------------------\u001b[0m",
      "\u001b[1;31mTypeError\u001b[0m                                 Traceback (most recent call last)",
      "Cell \u001b[1;32mIn[56], line 1\u001b[0m\n\u001b[1;32m----> 1\u001b[0m \u001b[38;5;28;01mclass\u001b[39;00m \u001b[38;5;21;01mOrnek\u001b[39;00m:\n\u001b[0;32m      2\u001b[0m     \u001b[38;5;28mprint\u001b[39m(\u001b[38;5;124m\"\u001b[39m\u001b[38;5;124mÖrnek Sınıf\u001b[39m\u001b[38;5;124m\"\u001b[39m)\n\u001b[0;32m      4\u001b[0m     \u001b[38;5;28;01mdef\u001b[39;00m \u001b[38;5;21mfonk\u001b[39m(\u001b[38;5;28mself\u001b[39m):\n",
      "Cell \u001b[1;32mIn[56], line 2\u001b[0m, in \u001b[0;36mOrnek\u001b[1;34m()\u001b[0m\n\u001b[0;32m      1\u001b[0m \u001b[38;5;28;01mclass\u001b[39;00m \u001b[38;5;21;01mOrnek\u001b[39;00m:\n\u001b[1;32m----> 2\u001b[0m     \u001b[38;5;28mprint\u001b[39m(\u001b[38;5;124m\"\u001b[39m\u001b[38;5;124mÖrnek Sınıf\u001b[39m\u001b[38;5;124m\"\u001b[39m)\n\u001b[0;32m      4\u001b[0m     \u001b[38;5;28;01mdef\u001b[39;00m \u001b[38;5;21mfonk\u001b[39m(\u001b[38;5;28mself\u001b[39m):\n\u001b[0;32m      5\u001b[0m         \u001b[38;5;28mprint\u001b[39m(\u001b[38;5;124m\"\u001b[39m\u001b[38;5;124mfonk\u001b[39m\u001b[38;5;124m\"\u001b[39m)\n",
      "\u001b[1;31mTypeError\u001b[0m: 'tuple' object is not callable"
     ]
    }
   ],
   "source": [
    "class Ornek:\n",
    "    print(\"Örnek Sınıf\")\n",
    "    \n",
    "    def fonk(self):\n",
    "        print(\"fonk\")\n",
    "    def digerfonk(self): \n",
    "        print(\"digerfonk\")\n",
    "        "
   ]
  },
  {
   "cell_type": "code",
   "execution_count": null,
   "id": "26a43fcf",
   "metadata": {},
   "outputs": [],
   "source": []
  }
 ],
 "metadata": {
  "kernelspec": {
   "display_name": "Python 3 (ipykernel)",
   "language": "python",
   "name": "python3"
  },
  "language_info": {
   "codemirror_mode": {
    "name": "ipython",
    "version": 3
   },
   "file_extension": ".py",
   "mimetype": "text/x-python",
   "name": "python",
   "nbconvert_exporter": "python",
   "pygments_lexer": "ipython3",
   "version": "3.11.5"
  }
 },
 "nbformat": 4,
 "nbformat_minor": 5
}
